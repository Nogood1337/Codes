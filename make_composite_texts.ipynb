{
 "cells": [
  {
   "cell_type": "code",
   "execution_count": 63,
   "metadata": {},
   "outputs": [],
   "source": [
    "#!/usr/bin/python\n",
    "# -*- coding:utf-8 -*-\n",
    "#standard python packages\n",
    "\n",
    "##################################################\n",
    "#changeable things\n",
    "\n",
    "outname = \"text_files/\" +  \"Sprite_Elve\" + \"_composite.txt\"    #this will be the saved file\n",
    "namelist = [\"Saved results/Sprites/Sprite_from_data\", \"Saved results/Elves/recreated_elve1_radius150_mag0\"]    #list of all files to merge, there will be background added before the\n",
    "#first file, between all files in case of more than one and after the last file\n",
    "\n",
    "##################################################\n",
    "\n",
    "GTU_count = 0   #This will be the current GTU for the composite text file instead of what \n",
    "#is written in the separate text files\n",
    "total_list = []    #this will be the list to write to the text file\n",
    "for name in namelist:    #loop through all the text files\n",
    "    tempname = \"text_files/\" + name + \".txt\"\n",
    "    with open(\"text_files/JustBackground_128_GTU.txt\") as filename:\n",
    "        for row in filename:\n",
    "            if len(row) < 24:\n",
    "                total_list.append(\"  \" + str(GTU_count) + \"\\n\")\n",
    "                GTU_count = GTU_count + 1\n",
    "            else:\n",
    "                total_list.append(row)\n",
    "    with open(tempname) as filename:    #open current text file in the loop\n",
    "        for row in filename:\n",
    "            if len(row) < 24:\n",
    "                total_list.append(\"  \" + str(GTU_count) + \"\\n\")\n",
    "                GTU_count = GTU_count + 1\n",
    "            else:\n",
    "                total_list.append(row)    #adding each row to the total_list\n",
    "with open(\"text_files/JustBackground_128_GTU.txt\") as filename:\n",
    "    for row in filename:\n",
    "        if len(row) < 24:\n",
    "            total_list.append(\"  \" + str(GTU_count) + \"\\n\")\n",
    "            GTU_count = GTU_count + 1\n",
    "        else:\n",
    "            total_list.append(row)"
   ]
  },
  {
   "cell_type": "code",
   "execution_count": 64,
   "metadata": {
    "collapsed": true
   },
   "outputs": [],
   "source": [
    "thefile = open(outname, 'w')\n",
    "for line in total_list:    #goes through the total_list and writes each line in the text file\n",
    "    thefile.write(line)"
   ]
  },
  {
   "cell_type": "code",
   "execution_count": null,
   "metadata": {
    "collapsed": true
   },
   "outputs": [],
   "source": []
  }
 ],
 "metadata": {
  "kernelspec": {
   "display_name": "Python 2",
   "language": "python",
   "name": "python2"
  },
  "language_info": {
   "codemirror_mode": {
    "name": "ipython",
    "version": 2
   },
   "file_extension": ".py",
   "mimetype": "text/x-python",
   "name": "python",
   "nbconvert_exporter": "python",
   "pygments_lexer": "ipython2",
   "version": "2.7.6"
  }
 },
 "nbformat": 4,
 "nbformat_minor": 2
}
