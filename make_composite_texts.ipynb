{
 "cells": [
  {
   "cell_type": "code",
   "execution_count": null,
   "metadata": {
    "collapsed": true
   },
   "outputs": [],
   "source": [
    "#!/usr/bin/python\n",
    "# -*- coding:utf-8 -*-\n",
    "#standard python packages\n",
    "\n",
    "##################################################\n",
    "#changeable things\n",
    "\n",
    "#outname = \"text_files/\" +  \"Total_1.txt\"    #name of the output text file, REMEMBER TO CHANGE OR IT WILL OVERWRITE\n",
    "namelist = [\"JustBackground_128GTU.txt\", \"Sprite1_128GTU.txt\", \"JustBackground_128GTU.txt\", \"Elves1_128GTU.txt\", \"JustBackground_128GTU.txt\", \"BlueJet1_128GTU.txt\", \"JustBackground_128GTU.txt\", \"Meteor_1_L2.txt\", \"JustBackground_128GTU.txt\"]    #list the names of all text files that you want to put into one large file making sure you have \"JustBackground_128GTU.txt\" before and after each filename. format it like this example: [\"JustBackground_128GTU.txt\", \"name1.txt\", \"JustBackground_128GTU.txt\", \"name2.txt\", \"JustBackground_128GTU.txt\", \"name3.txt\", \"JustBackground_128GTU.txt\"]\n",
    "want_time = 0    #0 for wanting to count execution time and print it in the terminal, anything else will not\n",
    "\n",
    "#below is for testing\n",
    "outname = \"text_files/\" +  \"test_composite.txt\"\n",
    "#namelist = [\"Meteor_1_L3.txt\", \"Elves1_128GTU.txt\"]\n",
    "\n",
    "##################################################\n",
    "\n",
    "\n",
    "total_list = []    #this will be the list to write to the text file\n",
    "for name in namelist:    #loop through all the text files\n",
    "    tempname = \"text_files/\" + name\n",
    "    with open(tempname) as filename:    #open current text file in the loop\n",
    "        for row in filename:\n",
    "            total_list.append(row)    #adding each row to the total_list\n"
   ]
  },
  {
   "cell_type": "code",
   "execution_count": null,
   "metadata": {
    "collapsed": true
   },
   "outputs": [],
   "source": [
    "thefile = open(outname, 'w')\n",
    "for line in total_list:    #goes through the total_list and writes each line in the text file\n",
    "    thefile.write(line)"
   ]
  }
 ],
 "metadata": {
  "kernelspec": {
   "display_name": "Python 2",
   "language": "python",
   "name": "python2"
  },
  "language_info": {
   "codemirror_mode": {
    "name": "ipython",
    "version": 2
   },
   "file_extension": ".py",
   "mimetype": "text/x-python",
   "name": "python",
   "nbconvert_exporter": "python",
   "pygments_lexer": "ipython2",
   "version": "2.7.6"
  }
 },
 "nbformat": 4,
 "nbformat_minor": 2
}
