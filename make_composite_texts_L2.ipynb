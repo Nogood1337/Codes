{
 "cells": [
  {
   "cell_type": "code",
   "execution_count": 7,
   "metadata": {
    "collapsed": true
   },
   "outputs": [],
   "source": [
    "#!/usr/bin/python\n",
    "# -*- coding:utf-8 -*-\n",
    "#standard python packages\n",
    "\n",
    "#This is the same kind of file as make_composite_texts but this is specialized for L2 text files since \n",
    "#the L2 text files aren't multiples of 128 BIG_GTU\n",
    "\n",
    "\n",
    "##################################################\n",
    "#changeable things\n",
    "\n",
    "outname = \"text_files/\" +  \"Sprite_Elve_1\" + \"_composite.txt\"    #this will be the saved file\n",
    "#namelist = [\"Saved results/Blue Jets/simu.2017-07-29-00h41m58s\", \"Saved results/Elves/elve_mag-5\"]\n",
    "namelist = [\"Sprite_Elve_1\"]    #list of all files to merge, there will be 1 BIG_GTU of background \n",
    "#added before the first file, between all files in case of more than one and after the last file\n",
    "\n",
    "##################################################\n",
    "\n",
    "GTU_count = 0   #This will be the current GTU for the composite text file instead of what \n",
    "#is written in the separate text files\n",
    "total_list = []    #this will be the list to write to the text file\n",
    "for name in namelist:    #loop through all the text files\n",
    "    tempname = \"text_files/\" + name + \".txt\"\n",
    "    with open(\"text_files/JustBackground_BIG_GTU.txt\") as filename:\n",
    "        for row in filename:\n",
    "            if len(row) < 24:\n",
    "                total_list.append(\"  \" + str(GTU_count) + \"\\n\")\n",
    "                GTU_count = GTU_count + 1\n",
    "            else:\n",
    "                total_list.append(row)\n",
    "    with open(tempname) as filename:    #open current text file in the loop\n",
    "        for row in filename:\n",
    "            if len(row) < 24:\n",
    "                total_list.append(\"  \" + str(GTU_count) + \"\\n\")\n",
    "                GTU_count = GTU_count + 1\n",
    "            else:\n",
    "                total_list.append(row)    #adding each row to the total_list\n",
    "with open(\"text_files/JustBackground_BIG_GTU.txt\") as filename:\n",
    "    for row in filename:\n",
    "        if len(row) < 24:\n",
    "            if GTU_count%128 == 0:    #This is what bakes sure the text file is a multiple of 128 BIG_GTU\n",
    "                break\n",
    "            else:\n",
    "                total_list.append(\"  \" + str(GTU_count) + \"\\n\")\n",
    "                GTU_count = GTU_count + 1\n",
    "        else:\n",
    "            total_list.append(row)"
   ]
  },
  {
   "cell_type": "code",
   "execution_count": 20,
   "metadata": {},
   "outputs": [],
   "source": [
    "thefile = open(outname, 'w')\n",
    "test = 0\n",
    "for line in total_list:    #goes through the total_list and writes each line in the text file\n",
    "    thefile.write(line)    #as always, save twice since something is weird"
   ]
  },
  {
   "cell_type": "code",
   "execution_count": null,
   "metadata": {
    "collapsed": true
   },
   "outputs": [],
   "source": []
  }
 ],
 "metadata": {
  "kernelspec": {
   "display_name": "Python 2",
   "language": "python",
   "name": "python2"
  },
  "language_info": {
   "codemirror_mode": {
    "name": "ipython",
    "version": 2
   },
   "file_extension": ".py",
   "mimetype": "text/x-python",
   "name": "python",
   "nbconvert_exporter": "python",
   "pygments_lexer": "ipython2",
   "version": "2.7.6"
  }
 },
 "nbformat": 4,
 "nbformat_minor": 2
}
