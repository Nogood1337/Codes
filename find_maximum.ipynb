{
 "cells": [
  {
   "cell_type": "code",
   "execution_count": 179,
   "metadata": {
    "collapsed": true
   },
   "outputs": [],
   "source": [
    "#!/usr/bin/python\n",
    "# -*- coding:utf-8 -*-\n",
    "#standard python packages\n",
    "import numpy as np\n",
    "import math\n",
    "import matplotlib.pyplot as plt\n",
    "\n",
    "##################################################\n",
    "##changeable things, for now only the first part of getting the total maximum will work if several files are wanted\n",
    "##for a single file all cells work\n",
    "\n",
    "#outname = \"text_files/\" +  \"TLE_max_2017-06-28.txt\"    #in case for saving\n",
    "#namelist = [\"BlueJet1_128GTU.txt\", \"BlueJet2_128GTU.txt\", \"BlueJet3_128GTU.txt\", \"BlueJet5_128GTU.txt\", \"BlueJet6_128GTU.txt\", \"BlueJet7_128GTU.txt\", \"Elves1_128GTU.txt\", \"Elves2_128GTU.txt\", \"Sprite1_128GTU.txt\", \"Sprite2_128GTU.txt\", \"Meteor_1_L2.txt\", \"Meteor_2_L2.txt\"]    #in case of wanting to go through multiple files\n",
    "#saving = 1    #0 = saves to file, anything else will only run\n",
    "\n",
    "##below is for testing, create outname file before saving or the saving part needs to be done twice since the first time only an empty file is created\n",
    "outname = \"text_files/\" +  \"test_max.txt\"\n",
    "#namelist = [\"test_composite.txt\"]\n",
    "namelist = [\"Sprite1_128GTU.txt\"]\n",
    "saving = 0    #0 = saves to file, anything else will only run\n",
    "show = 0    #0 = shows plot, anything else will only run\n",
    "\n",
    "##################################################\n",
    "\n",
    "maximum_collection = []\n",
    "total_ind = 0\n",
    "for name in namelist:\n",
    "    total_list = []    #list of the maxmimum number for each timestep in the file\n",
    "    tempname = \"text_files/\" + name\n",
    "    with open(tempname) as f:\n",
    "        data = []\n",
    "        for line in f:\n",
    "            line = line.split()\n",
    "            if line:\n",
    "                line = [int(i) for i in line]\n",
    "                data.append(line)    #making the text file into a list\n",
    "\n",
    "        length = np.shape(data)[0]    #number of rows in the text file\n",
    "        ind = range(0, length, 49)    #list of numbers with the indices in the list data indicating change in timestep, [0, 49, 98, 147....]\n",
    "        total_ind = total_ind + len(ind)\n",
    "        nz = int(len(ind))    #nz is the total number of timesteps in the current textfile\n",
    "        counts = np.zeros((nz, 2304))    #list of nz lists each with 2304 zeros corresponding to each pixel\n",
    "        for iz in range(nz):\n",
    "            counts[iz][:] = np.concatenate((data[ind[iz] + 1 : ind[iz] + 49]), axis = 0)    #filling the nz lists with the data\n",
    "\n",
    "    for maximum in counts:\n",
    "        total_list.append(max(maximum))\n",
    "\n",
    "    maximum_collection.append(name + \"  \" + str(max(total_list)))\n"
   ]
  },
  {
   "cell_type": "code",
   "execution_count": 180,
   "metadata": {
    "collapsed": true
   },
   "outputs": [],
   "source": [
    "#for saving the maximum for each text file opened\n",
    "if saving == 0:\n",
    "    thefile = open(outname, 'w')\n",
    "    for line in maximum_collection:    #goes through the total_list and writes each line in the text file\n",
    "        thefile.write(line + \"\\n\")"
   ]
  },
  {
   "cell_type": "code",
   "execution_count": 181,
   "metadata": {
    "scrolled": false
   },
   "outputs": [],
   "source": [
    "##below is to find the pixel with the maximum, does not work for multiple files at the same time since total_list gets overwritten\n",
    "## in case multiple files is wanted, run make_composite_texts first on the wanted files and then this on the composite text\n",
    "pixel = []\n",
    "x_max = 0\n",
    "y_max = 0\n",
    "for a in range(nz):\n",
    "    w = counts[a].reshape(48, 48)    #this makes the array of 2304 numbers in a 48x48 shape\n",
    "    temp_y,temp_x = np.where(w==total_list[a])    #this gives the pixels which are maximum\n",
    "    y_max_temp,x_max_temp = np.where(w==max(total_list))    #this gives the pixels which are maximum\n",
    "    if len(y_max_temp) > 0:\n",
    "        y_max = y_max_temp\n",
    "        x_max = x_max_temp\n",
    "    for q in range(len(temp_x)):    #loop to make the pixel into a format that is easier to read\n",
    "        temp = str(a+1) + \"; (\" + str(temp_x[q]+1) + \",\" + str(48-temp_y[q]) + \"); \" + str(total_list[a])    #to make it look good\n",
    "        pixel.append(temp)    #saves in the following format: \"frame#; (x,y); maximum\"\n",
    "\n",
    "##below is for printing the pixel\n",
    "#for a in range(len(pixel)):\n",
    "#    print pixel[a]\n"
   ]
  },
  {
   "cell_type": "code",
   "execution_count": 182,
   "metadata": {
    "collapsed": true
   },
   "outputs": [],
   "source": [
    "#for saving the maximum pixel for each frame (will be very long if the files are unintegrated)\n",
    "if saving == 0:\n",
    "    thefile = open(\"text_files/pixel_max.txt\", 'w')\n",
    "    for line in pixel:    #goes through the total_list and writes each line in the text file\n",
    "        thefile.write(line + \"\\n\")\n"
   ]
  },
  {
   "cell_type": "code",
   "execution_count": 183,
   "metadata": {
    "scrolled": true
   },
   "outputs": [],
   "source": [
    "#below is for making a plot over how the maximum pixel changes over all timestamps\n",
    "indexnumber = 48*y_max[0] + x_max[0]\n",
    "#print \"Index number in counts for the maximum pixel is \" + str(indexnumber)\n",
    "max_pixel_change = []\n",
    "plot_savename = \"plots/\" + namelist[0].strip(\".txt\")    #this will be the name the plot is saved as, no file ending\n",
    "for a in counts:\n",
    "    max_pixel_change.append(a[indexnumber])\n",
    "x_range = range(1,len(max_pixel_change)+1)\n",
    "fig = plt.figure()\n",
    "ax = plt.gca()\n",
    "plt.plot(x_range, max_pixel_change)\n",
    "plt.title('Filename = ' + namelist[0])\n",
    "plt.ylabel('counts? kR?')\n",
    "plt.xlabel('Timestamp')\n",
    "if show == 0:\n",
    "    plt.show()"
   ]
  },
  {
   "cell_type": "code",
   "execution_count": 184,
   "metadata": {},
   "outputs": [],
   "source": [
    "#for saving how the maximum pixel changes over each timestamp\n",
    "if saving == 0:\n",
    "    fig.savefig(plot_savename + \"_max.eps\")\n"
   ]
  },
  {
   "cell_type": "code",
   "execution_count": null,
   "metadata": {},
   "outputs": [],
   "source": []
  }
 ],
 "metadata": {
  "kernelspec": {
   "display_name": "Python 2",
   "language": "python",
   "name": "python2"
  },
  "language_info": {
   "codemirror_mode": {
    "name": "ipython",
    "version": 2
   },
   "file_extension": ".py",
   "mimetype": "text/x-python",
   "name": "python",
   "nbconvert_exporter": "python",
   "pygments_lexer": "ipython2",
   "version": "2.7.6"
  }
 },
 "nbformat": 4,
 "nbformat_minor": 2
}
