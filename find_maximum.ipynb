{
 "cells": [
  {
   "cell_type": "code",
   "execution_count": 296,
   "metadata": {
    "collapsed": true
   },
   "outputs": [],
   "source": [
    "#!/usr/bin/python\n",
    "# -*- coding:utf-8 -*-\n",
    "#standard python packages\n",
    "import numpy as np\n",
    "import math\n",
    "\n",
    "##################################################\n",
    "##changeable things\n",
    "\n",
    "#outname = \"text_files/\" +  \"maximum.txt\"    #in case for saving\n",
    "#namelist = [\"BlueJet1_128GTU.txt\", \"BlueJet2_128GTU.txt\", \"BlueJet3_128GTU.txt\", \"BlueJet5_128GTU.txt\", \"BlueJet6_128GTU.txt\", \"BlueJet7_128GTU.txt\", \"Elves1_128GTU.txt\", \"Elves2_128GTU.txt\", \"Sprite1_128GTU.txt\", \"Sprite2_128GTU.txt\", \"Meteor_1_L2.txt\", \"Meteor_2_L2.txt\"]    #in case of wanting to go through multiple files\n",
    "#saving = 1    #0 = saves to file, anything else will only run\n",
    "\n",
    "##below is for testing, outname file is still needed to be created before running in case of wanting to save\n",
    "outname = \"text_files/\" +  \"test_max.txt\"\n",
    "namelist = [\"Meteor_1_L2.txt\"]\n",
    "saving = 1    #0 = saves to file, anything else will only run\n",
    "\n",
    "##################################################\n",
    "\n",
    "maximum_collection = []\n",
    "for name in namelist:\n",
    "    total_list = []    #list of the maxmimum number for each timestep in the file\n",
    "    tempname = \"text_files/\" + name\n",
    "    with open(tempname) as f:\n",
    "        data = []\n",
    "        for line in f:\n",
    "            line = line.split()\n",
    "            if line:\n",
    "                line = [int(i) for i in line]\n",
    "                data.append(line)    #making the text file into a list\n",
    "\n",
    "        length = np.shape(data)[0]    #number of rows in the text file\n",
    "        ind = range(0, length, 49)    #list of numbers with the indices in the list data indicating change in timestep, [0, 49, 98, 147....]\n",
    "        nz = int(len(ind))    #nz is the total number of timesteps in the textfile\n",
    "        counts = np.zeros((nz, 2304))    #list of nz lists each with 2304 zeros corresponding to each pixel\n",
    "        for iz in range(nz):\n",
    "            counts[iz][:] = np.concatenate((data[ind[iz] + 1 : ind[iz] + 49]), axis = 0)    #filling the nz lists with the data\n",
    "\n",
    "    for maximum in counts:\n",
    "        total_list.append(max(maximum))\n",
    "\n",
    "    maximum_collection.append(name + \"  \" + str(max(total_list)))\n",
    "\n",
    "if saving == 0:\n",
    "    thefile = open(outname, 'w')\n",
    "    for line in maximimum_collection:    #goes through the total_list and writes each line in the text file\n",
    "        thefile.write(line + \"\\n\")\n"
   ]
  },
  {
   "cell_type": "code",
   "execution_count": 298,
   "metadata": {
    "scrolled": false
   },
   "outputs": [],
   "source": [
    "##below is to find the pixel with the maximum\n",
    "\n",
    "counter = 0\n",
    "pixel = []\n",
    "for a in range(nz):\n",
    "    w = counts[counter].reshape(48, 48)    #this makes the array of 2304 numbers into a 48x48 shape\n",
    "    temp_y,temp_x = np.where(w==total_list[counter])    #this gives the pixels which are maximum\n",
    "    for q in range(len(x)):    #loop to make the pixel into a format that is easier to read\n",
    "        temp = str(counter+1) + \"; (\" + str(temp_x[q]+1) + \",\" + str(48-temp_y[q]) + \"); \" + str(total_list[counter])    #to make it look good\n",
    "        pixel.append(temp)    #saves in the following format: \"frame#; (x,y); maximum\"\n",
    "    counter = counter + 1\n",
    "\n",
    "##below is for printing the pixel\n",
    "#for a in range(len(pixel)):\n",
    "#    print pixel[a]\n"
   ]
  },
  {
   "cell_type": "code",
   "execution_count": null,
   "metadata": {},
   "outputs": [],
   "source": []
  }
 ],
 "metadata": {
  "kernelspec": {
   "display_name": "Python 2",
   "language": "python",
   "name": "python2"
  },
  "language_info": {
   "codemirror_mode": {
    "name": "ipython",
    "version": 2
   },
   "file_extension": ".py",
   "mimetype": "text/x-python",
   "name": "python",
   "nbconvert_exporter": "python",
   "pygments_lexer": "ipython2",
   "version": "2.7.6"
  }
 },
 "nbformat": 4,
 "nbformat_minor": 2
}
