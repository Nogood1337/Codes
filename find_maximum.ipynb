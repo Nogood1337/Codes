{
 "cells": [
  {
   "cell_type": "code",
   "execution_count": null,
   "metadata": {},
   "outputs": [
    {
     "name": "stderr",
     "output_type": "stream",
     "text": [
      "ERROR:root:Internal Python error in the inspect module.\n",
      "Below is the traceback from this internal error.\n",
      "\n",
      "ERROR:root:Internal Python error in the inspect module.\n",
      "Below is the traceback from this internal error.\n",
      "\n"
     ]
    },
    {
     "name": "stdout",
     "output_type": "stream",
     "text": [
      "Traceback (most recent call last):\n",
      "  File \"/usr/local/lib/python2.7/dist-packages/IPython/core/ultratb.py\", line 1132, in get_records\n",
      "Traceback (most recent call last):\n",
      "  File \"/usr/local/lib/python2.7/dist-packages/IPython/core/ultratb.py\", line 1132, in get_records\n"
     ]
    },
    {
     "name": "stderr",
     "output_type": "stream",
     "text": [
      "Traceback (most recent call last):\n",
      "  File \"/usr/lib/python2.7/logging/__init__.py\", line 851, in emit\n",
      "Traceback (most recent call last):\n",
      "  File \"/usr/lib/python2.7/logging/__init__.py\", line 851, in emit\n",
      "Traceback (most recent call last):\n",
      "  File \"/usr/lib/python2.7/logging/__init__.py\", line 851, in emit\n",
      "Traceback (most recent call last):\n",
      "  File \"/usr/lib/python2.7/logging/__init__.py\", line 851, in emit\n",
      "Error in sys.excepthook:\n",
      "Traceback (most recent call last):\n",
      "  File \"/usr/local/lib/python2.7/dist-packages/ipykernel/kernelapp.py\", line 162, in excepthook\n",
      "    traceback.print_exception(etype, evalue, tb, file=sys.__stderr__)\n",
      "  File \"/usr/lib/python2.7/traceback.py\", line 125, in print_exception\n",
      "    print_tb(tb, limit, file)\n",
      "  File \"/usr/lib/python2.7/traceback.py\", line 69, in print_tb\n",
      "    line = linecache.getline(filename, lineno, f.f_globals)\n",
      "  File \"/usr/lib/python2.7/linecache.py\", line 14, in getline\n",
      "    lines = getlines(filename, module_globals)\n",
      "  File \"/usr/lib/python2.7/linecache.py\", line 40, in getlines\n",
      "    return updatecache(filename, module_globals)\n",
      "  File \"/usr/lib/python2.7/linecache.py\", line 133, in updatecache\n",
      "MemoryError\n",
      "\n",
      "Original exception was:\n",
      "Traceback (most recent call last):\n",
      "  File \"/usr/lib/python2.7/runpy.py\", line 162, in _run_module_as_main\n",
      "  File \"/usr/lib/python2.7/runpy.py\", line 72, in _run_code\n",
      "  File \"/usr/local/lib/python2.7/dist-packages/ipykernel_launcher.py\", line 16, in <module>\n",
      "  File \"/usr/local/lib/python2.7/dist-packages/traitlets/config/application.py\", line 658, in launch_instance\n",
      "  File \"/usr/local/lib/python2.7/dist-packages/ipykernel/kernelapp.py\", line 477, in start\n",
      "  File \"/usr/lib/python2.7/dist-packages/zmq/eventloop/ioloop.py\", line 160, in start\n",
      "  File \"/usr/local/lib/python2.7/dist-packages/tornado/ioloop.py\", line 896, in start\n",
      "  File \"/usr/local/lib/python2.7/dist-packages/tornado/ioloop.py\", line 638, in handle_callback_exception\n",
      "  File \"/usr/lib/python2.7/logging/__init__.py\", line 1178, in error\n",
      "  File \"/usr/lib/python2.7/logging/__init__.py\", line 1271, in _log\n",
      "  File \"/usr/lib/python2.7/logging/__init__.py\", line 1281, in handle\n",
      "  File \"/usr/lib/python2.7/logging/__init__.py\", line 1321, in callHandlers\n",
      "  File \"/usr/lib/python2.7/logging/__init__.py\", line 751, in handle\n",
      "  File \"/usr/lib/python2.7/logging/__init__.py\", line 705, in release\n",
      "  File \"/usr/lib/python2.7/threading.py\", line 202, in release\n",
      "MemoryError\n"
     ]
    }
   ],
   "source": [
    "#!/usr/bin/python\n",
    "# -*- coding:utf-8 -*-\n",
    "#standard python packages\n",
    "import numpy as np\n",
    "import math\n",
    "import matplotlib.pyplot as plt\n",
    "#this program apparently needs more memory than my laptop have to be able to run files with sizes about 3.4 GB\n",
    "##################################################\n",
    "##changeable things, for now only the first part of getting the total maximum will work if several files are wanted\n",
    "##for a single file all cells work\n",
    "\n",
    "outname = \"text_files/\" + \"simu.2017-07-29-00h41m58s_max\" + \".txt\"    #in case for saving\n",
    "#namelist = [\"BlueJet1_128GTU.txt\", \"BlueJet2_128GTU.txt\", \"BlueJet3_128GTU.txt\", \"BlueJet5_128GTU.txt\", \"BlueJet6_128GTU.txt\", \"BlueJet7_128GTU.txt\", \"Elves1_128GTU.txt\", \"Elves2_128GTU.txt\", \"Sprite1_128GTU.txt\", \"Sprite2_128GTU.txt\", \"Meteor_1_L2.txt\", \"Meteor_2_L2.txt\"]    #in case of wanting to go through multiple files\n",
    "saving = 0    #0 = saves to file, anything else will only run\n",
    "show = 1    #0 = shows plot, anything else will only run\n",
    "\n",
    "##below is for testing, create outname file before saving or the saving part needs to be done twice since the first time only an empty file is created\n",
    "#outname = \"text_files/\" +  \"test_max.txt\"\n",
    "namelist = [\"simu.2017-07-29-00h41m58s\"]\n",
    "#saving = 0    #0 = saves to file, anything else will only run\n",
    "#show = 0    #0 = shows plot, anything else will only run\n",
    "\n",
    "##################################################\n",
    "\n",
    "maximum_collection = []\n",
    "total_ind = 0\n",
    "for name in namelist:\n",
    "    total_list = []    #list of the maxmimum number for each timestep in the file\n",
    "    tempname = \"text_files/\" + name + \".txt\"\n",
    "    with open(tempname) as f:\n",
    "        data = []\n",
    "        for line in f:\n",
    "            line = line.split()\n",
    "            if line:\n",
    "                line = [int(i) for i in line]\n",
    "                data.append(line)    #making the text file into a list\n",
    "\n",
    "        length = np.shape(data)[0]    #number of rows in the text file\n",
    "        ind = range(0, length, 49)    #list of numbers with the indices in the list data indicating change in timestep, [0, 49, 98, 147....]\n",
    "        total_ind = total_ind + len(ind)\n",
    "        nz = int(len(ind))    #nz is the total number of timesteps in the current textfile\n",
    "        counts = np.zeros((nz, 2304))    #list of nz lists each with 2304 zeros corresponding to each pixel\n",
    "        for iz in range(nz):\n",
    "            counts[iz][:] = np.concatenate((data[ind[iz] + 1 : ind[iz] + 49]), axis = 0)    #filling the nz lists with the data\n",
    "\n",
    "    for maximum in counts:\n",
    "        total_list.append(max(maximum))\n",
    "\n",
    "    maximum_collection.append(name + \"  \" + str(max(total_list)))\n"
   ]
  },
  {
   "cell_type": "code",
   "execution_count": 4,
   "metadata": {
    "collapsed": true
   },
   "outputs": [],
   "source": [
    "#for saving the maximum for each text file opened\n",
    "if saving == 0:\n",
    "    thefile = open(outname, 'w')\n",
    "    for line in maximum_collection:    #goes through the total_list and writes each line in the text file\n",
    "        thefile.write(line + \"\\n\")"
   ]
  },
  {
   "cell_type": "code",
   "execution_count": 2,
   "metadata": {
    "collapsed": true,
    "scrolled": false
   },
   "outputs": [],
   "source": [
    "##below is to find the pixel with the maximum, does not work for multiple files at the same time since total_list gets overwritten\n",
    "## in case multiple files is wanted, run make_composite_texts first on the wanted files and then this on the composite text\n",
    "pixel = []\n",
    "x_max = 0\n",
    "y_max = 0\n",
    "for a in range(nz):\n",
    "    w = counts[a].reshape(48, 48)    #this makes the array of 2304 numbers in a 48x48 shape\n",
    "    temp_y,temp_x = np.where(w==total_list[a])    #this gives the pixels which are maximum\n",
    "    y_max_temp,x_max_temp = np.where(w==max(total_list))    #this gives the pixels which are maximum\n",
    "    if len(y_max_temp) > 0:\n",
    "        y_max = y_max_temp\n",
    "        x_max = x_max_temp\n",
    "    for q in range(len(temp_x)):    #loop to make the pixel into a format that is easier to read\n",
    "        temp = str(a+1) + \"; (\" + str(temp_x[q]) + \",\" + str(47-temp_y[q]) + \"); \" + str(total_list[a])    #to make it look good\n",
    "        pixel.append(temp)    #saves in the following format: \"frame#; (x,y); maximum\"\n",
    "\n",
    "##below is for printing the pixel\n",
    "#for a in range(len(pixel)):\n",
    "#    print pixel[a]\n"
   ]
  },
  {
   "cell_type": "code",
   "execution_count": 40,
   "metadata": {
    "collapsed": true
   },
   "outputs": [],
   "source": [
    "#for saving the maximum pixel for each frame (the file will be very long if the files are unintegrated)\n",
    "if saving == 0:\n",
    "    thefile = open(\"text_files/simu.2017-07-29-00h41m58s_pixel_max.txt\", 'w')\n",
    "    for line in pixel:    #goes through the total_list and writes each line in the text file\n",
    "        thefile.write(line + \"\\n\")\n"
   ]
  },
  {
   "cell_type": "code",
   "execution_count": 3,
   "metadata": {
    "collapsed": true,
    "scrolled": true
   },
   "outputs": [],
   "source": [
    "#below is for making a plot over how the maximum pixel changes over all timestamps\n",
    "indexnumber = 48*y_max[0] + x_max[0]    #the index in counts for the maximum pixel\n",
    "#print \"Index number in counts for the maximum pixel is \" + str(indexnumber)\n",
    "max_pixel_change = []\n",
    "plot_savename = \"plots/\" + namelist[0].strip(\".txt\")    #this will be the name the plot is saved as, no file ending\n",
    "for a in counts:    #makes a list of all timestamps for the maximum pixel\n",
    "    max_pixel_change.append(a[indexnumber])\n",
    "x_range = range(1,len(max_pixel_change)+1)\n",
    "fig = plt.figure()\n",
    "ax = plt.gca()\n",
    "plt.plot(x_range, max_pixel_change)\n",
    "plt.title('Filename = ' + namelist[0])\n",
    "plt.ylabel('Counts')\n",
    "plt.xlabel('Timestamp')\n",
    "if show == 0:    #remember that the python program will not continue until the figure is closed\n",
    "    plt.show()"
   ]
  },
  {
   "cell_type": "code",
   "execution_count": 42,
   "metadata": {
    "collapsed": true
   },
   "outputs": [],
   "source": [
    "#for saving how the maximum pixel changes over each timestamp\n",
    "if saving == 0:\n",
    "    fig.savefig(plot_savename + \"_max.eps\")\n"
   ]
  },
  {
   "cell_type": "code",
   "execution_count": 12,
   "metadata": {},
   "outputs": [],
   "source": []
  }
 ],
 "metadata": {
  "kernelspec": {
   "display_name": "Python 2",
   "language": "python",
   "name": "python2"
  },
  "language_info": {
   "codemirror_mode": {
    "name": "ipython",
    "version": 2
   },
   "file_extension": ".py",
   "mimetype": "text/x-python",
   "name": "python",
   "nbconvert_exporter": "python",
   "pygments_lexer": "ipython2",
   "version": "2.7.6"
  }
 },
 "nbformat": 4,
 "nbformat_minor": 2
}
