{
 "cells": [
  {
   "cell_type": "code",
   "execution_count": 6,
   "metadata": {
    "collapsed": true
   },
   "outputs": [],
   "source": [
    "#!/usr/bin/python\n",
    "# -*- coding:utf-8 -*-\n",
    "#standard python packages\n",
    "import numpy as np\n",
    "import math\n",
    "import matplotlib.pyplot as plt\n",
    "##################################################\n",
    "##changeable things\n",
    "#put all filenames that you want to plot the PMT sum for into the namelist\n",
    "namelist = [\"elve_mag1_PMT_sum\", \"elve_mag0_PMT_sum\", \"elve_mag-1_PMT_sum\", \"elve_mag-2_PMT_sum\", \"elve_mag-3_PMT_sum\"]\n",
    "#put all magnitudes for the files in namelist in their corresponding order, this needs to be done manually since the\n",
    "#magnitude is only saved as part of the filenames\n",
    "maglist = [1, 0, -1, -2, -3] #this will be the x-axis with the sums at the y-axis\n",
    "##################################################\n",
    "\n",
    "y_list = [] #this will be the list that saves the maximum PMT sum for each file to plot against the magnitude\n",
    "for name in namelist:\n",
    "    tempname = \"text_files/\" + name + \".txt\"\n",
    "    y_temp = [] #temporary list of PMT sums for each file where only the maximum will be saved in y_list\n",
    "    with open(tempname) as f:\n",
    "        for line in f:\n",
    "            line = line.split()\n",
    "            y_temp.append(line[1])\n",
    "    y_list.append(max(y_temp))"
   ]
  },
  {
   "cell_type": "code",
   "execution_count": 13,
   "metadata": {},
   "outputs": [],
   "source": [
    "#for doing the plot\n",
    "fig = plt.figure()\n",
    "ax = plt.gca()\n",
    "plt.plot(maglist, y_list)\n",
    "ax.invert_xaxis()\n",
    "plt.title(\"PMT sum vs magnitude\")\n",
    "plt.ylabel(\"PMT sum\")\n",
    "plt.xlabel(\"Magnitude\")\n",
    "fig.savefig(\"plots/\" + \"PMT_vs_mag_1.eps\")\n",
    "plt.close(\"all\")    #need this in jupyter if you don't show figures or they stay behind in memory until ~20 is reached \n",
    "#and then gives an error message"
   ]
  }
 ],
 "metadata": {
  "kernelspec": {
   "display_name": "Python 2",
   "language": "python",
   "name": "python2"
  },
  "language_info": {
   "codemirror_mode": {
    "name": "ipython",
    "version": 2
   },
   "file_extension": ".py",
   "mimetype": "text/x-python",
   "name": "python",
   "nbconvert_exporter": "python",
   "pygments_lexer": "ipython2",
   "version": "2.7.6"
  }
 },
 "nbformat": 4,
 "nbformat_minor": 2
}
